{
 "cells": [
  {
   "cell_type": "code",
   "execution_count": 11,
   "id": "01a18c8d-19b5-4613-8e44-5e560ff14759",
   "metadata": {
    "execution": {
     "iopub.execute_input": "2025-03-19T14:05:24.982931Z",
     "iopub.status.busy": "2025-03-19T14:05:24.981064Z",
     "iopub.status.idle": "2025-03-19T14:05:51.842279Z",
     "shell.execute_reply": "2025-03-19T14:05:51.840933Z",
     "shell.execute_reply.started": "2025-03-19T14:05:24.982867Z"
    },
    "tags": []
   },
   "outputs": [
    {
     "name": "stderr",
     "output_type": "stream",
     "text": [
      "WARNING: All log messages before absl::InitializeLog() is called are written to STDERR\n",
      "I0000 00:00:1742393127.994016    2677 fork_posix.cc:75] Other threads are currently calling into gRPC, skipping fork() handlers\n"
     ]
    },
    {
     "name": "stdout",
     "output_type": "stream",
     "text": [
      "\u001b[33mWARNING: Skipping faiss as it is not installed.\u001b[0m\u001b[33m\n",
      "\u001b[0m\u001b[33mWARNING: Skipping faiss-cpu as it is not installed.\u001b[0m\u001b[33m\n",
      "\u001b[0mFound existing installation: faiss-gpu 1.7.2\n",
      "Uninstalling faiss-gpu-1.7.2:\n",
      "  Successfully uninstalled faiss-gpu-1.7.2\n",
      "\u001b[33mWARNING: Failed to remove contents in a temporary directory '/home/jupyter/.local/lib/python3.10/site-packages/~-iss'.\n",
      "You can safely remove it manually.\u001b[0m\u001b[33m\n",
      "\u001b[0m\u001b[33mWARNING: Failed to remove contents in a temporary directory '/home/jupyter/.local/lib/python3.10/site-packages/~aiss_gpu.libs'.\n",
      "You can safely remove it manually.\u001b[0m\u001b[33m\n",
      "\u001b[0m"
     ]
    },
    {
     "name": "stderr",
     "output_type": "stream",
     "text": [
      "I0000 00:00:1742393136.083146    2677 fork_posix.cc:75] Other threads are currently calling into gRPC, skipping fork() handlers\n"
     ]
    },
    {
     "name": "stdout",
     "output_type": "stream",
     "text": [
      "Defaulting to user installation because normal site-packages is not writeable\n",
      "Collecting faiss-cpu\n",
      "  Downloading faiss_cpu-1.10.0-cp310-cp310-manylinux_2_28_x86_64.whl.metadata (4.4 kB)\n",
      "Requirement already satisfied: numpy<3.0,>=1.25.0 in /home/jupyter/.local/lib/python3.10/site-packages (from faiss-cpu) (1.26.4)\n",
      "Requirement already satisfied: packaging in /home/jupyter/.local/lib/python3.10/site-packages (from faiss-cpu) (24.2)\n",
      "Downloading faiss_cpu-1.10.0-cp310-cp310-manylinux_2_28_x86_64.whl (30.7 MB)\n",
      "\u001b[2K   \u001b[90m━━━━━━━━━━━━━━━━━━━━━━━━━━━━━━━━━━━━━━━━\u001b[0m \u001b[32m30.7/30.7 MB\u001b[0m \u001b[31m87.2 MB/s\u001b[0m eta \u001b[36m0:00:00\u001b[0m:00:01\u001b[0m0:01\u001b[0m\n",
      "\u001b[?25hInstalling collected packages: faiss-cpu\n",
      "Successfully installed faiss-cpu-1.10.0\n",
      "\n",
      "\u001b[1m[\u001b[0m\u001b[34;49mnotice\u001b[0m\u001b[1;39;49m]\u001b[0m\u001b[39;49m A new release of pip is available: \u001b[0m\u001b[31;49m23.0.1\u001b[0m\u001b[39;49m -> \u001b[0m\u001b[32;49m25.0.1\u001b[0m\n",
      "\u001b[1m[\u001b[0m\u001b[34;49mnotice\u001b[0m\u001b[1;39;49m]\u001b[0m\u001b[39;49m To update, run: \u001b[0m\u001b[32;49mpython3 -m pip install --upgrade pip\u001b[0m\n"
     ]
    }
   ],
   "source": [
    "%pip uninstall -y faiss faiss-cpu faiss-gpu\n",
    "%pip install faiss-cpu"
   ]
  },
  {
   "cell_type": "code",
   "execution_count": 1,
   "id": "6b26cb21-33d8-438b-bf54-1d6b30fe90bc",
   "metadata": {
    "execution": {
     "iopub.execute_input": "2025-03-24T07:11:08.602556Z",
     "iopub.status.busy": "2025-03-24T07:11:08.601825Z",
     "iopub.status.idle": "2025-03-24T07:11:09.216056Z",
     "shell.execute_reply": "2025-03-24T07:11:09.214963Z",
     "shell.execute_reply.started": "2025-03-24T07:11:08.602503Z"
    },
    "tags": []
   },
   "outputs": [
    {
     "name": "stdout",
     "output_type": "stream",
     "text": [
      "FAISS version: 1.10.0\n",
      "FAISS has GPU support: False\n"
     ]
    }
   ],
   "source": [
    "import faiss\n",
    "print(f\"FAISS version: {faiss.__version__}\")\n",
    "print(f\"FAISS has GPU support: {hasattr(faiss, 'StandardGpuResources')}\")\n"
   ]
  },
  {
   "cell_type": "code",
   "execution_count": 14,
   "id": "101f6ab9-5a6f-4f49-83fd-53c531c6ae6e",
   "metadata": {
    "execution": {
     "iopub.execute_input": "2025-03-19T13:01:30.367427Z",
     "iopub.status.busy": "2025-03-19T13:01:30.366156Z",
     "iopub.status.idle": "2025-03-19T13:01:31.314989Z",
     "shell.execute_reply": "2025-03-19T13:01:31.313906Z",
     "shell.execute_reply.started": "2025-03-19T13:01:30.367378Z"
    },
    "tags": []
   },
   "outputs": [
    {
     "name": "stderr",
     "output_type": "stream",
     "text": [
      "I0000 00:00:1742389290.373514    3837 fork_posix.cc:75] Other threads are currently calling into gRPC, skipping fork() handlers\n"
     ]
    },
    {
     "name": "stdout",
     "output_type": "stream",
     "text": [
      "\u001b[33mWARNING: Skipping faiss as it is not installed.\u001b[0m\u001b[33m\n",
      "\u001b[0mFound existing installation: faiss-gpu 1.7.2\n",
      "Uninstalling faiss-gpu-1.7.2:\n",
      "  Successfully uninstalled faiss-gpu-1.7.2\n"
     ]
    }
   ],
   "source": [
    "%pip uninstall -y faiss faiss-gpu"
   ]
  },
  {
   "cell_type": "code",
   "execution_count": 15,
   "id": "377fd1f5-997c-4e65-ae61-c0b927d9e687",
   "metadata": {
    "execution": {
     "iopub.execute_input": "2025-03-19T13:01:41.908533Z",
     "iopub.status.busy": "2025-03-19T13:01:41.907300Z",
     "iopub.status.idle": "2025-03-19T13:01:59.410589Z",
     "shell.execute_reply": "2025-03-19T13:01:59.409691Z",
     "shell.execute_reply.started": "2025-03-19T13:01:41.908485Z"
    },
    "tags": []
   },
   "outputs": [
    {
     "name": "stderr",
     "output_type": "stream",
     "text": [
      "I0000 00:00:1742389301.913931    3837 fork_posix.cc:75] Other threads are currently calling into gRPC, skipping fork() handlers\n"
     ]
    },
    {
     "name": "stdout",
     "output_type": "stream",
     "text": [
      "Defaulting to user installation because normal site-packages is not writeable\n",
      "Collecting faiss-gpu\n",
      "  Downloading faiss_gpu-1.7.2-cp310-cp310-manylinux_2_17_x86_64.manylinux2014_x86_64.whl.metadata (1.4 kB)\n",
      "Downloading faiss_gpu-1.7.2-cp310-cp310-manylinux_2_17_x86_64.manylinux2014_x86_64.whl (85.5 MB)\n",
      "\u001b[2K   \u001b[90m━━━━━━━━━━━━━━━━━━━━━━━━━━━━━━━━━━━━━━━━\u001b[0m \u001b[32m85.5/85.5 MB\u001b[0m \u001b[31m50.3 MB/s\u001b[0m eta \u001b[36m0:00:00\u001b[0m00:01\u001b[0m00:01\u001b[0m\n",
      "\u001b[?25hInstalling collected packages: faiss-gpu\n",
      "Successfully installed faiss-gpu-1.7.2\n",
      "\n",
      "\u001b[1m[\u001b[0m\u001b[34;49mnotice\u001b[0m\u001b[1;39;49m]\u001b[0m\u001b[39;49m A new release of pip is available: \u001b[0m\u001b[31;49m23.0.1\u001b[0m\u001b[39;49m -> \u001b[0m\u001b[32;49m25.0.1\u001b[0m\n",
      "\u001b[1m[\u001b[0m\u001b[34;49mnotice\u001b[0m\u001b[1;39;49m]\u001b[0m\u001b[39;49m To update, run: \u001b[0m\u001b[32;49mpython3 -m pip install --upgrade pip\u001b[0m\n"
     ]
    }
   ],
   "source": [
    "%pip install faiss-gpu"
   ]
  },
  {
   "cell_type": "code",
   "execution_count": 17,
   "id": "5cf51931-0582-4dc0-80e1-eb99021ed0bd",
   "metadata": {
    "execution": {
     "iopub.execute_input": "2025-03-24T13:52:59.303727Z",
     "iopub.status.busy": "2025-03-24T13:52:59.302294Z",
     "iopub.status.idle": "2025-03-24T13:53:04.962996Z",
     "shell.execute_reply": "2025-03-24T13:53:04.961980Z",
     "shell.execute_reply.started": "2025-03-24T13:52:59.303670Z"
    },
    "tags": []
   },
   "outputs": [
    {
     "name": "stderr",
     "output_type": "stream",
     "text": [
      "  0%|          | 0/1 [00:00<?, ?it/s]\n",
      "100%|██████████| 1/1 [00:00<00:00, 221.76it/s]\n",
      "100%|██████████| 1/1 [00:05<00:00,  5.61s/it]\n"
     ]
    }
   ],
   "source": [
    "%run create_embeddings.py \"Кротов_Петр в Дюнкерке.txt\""
   ]
  },
  {
   "cell_type": "code",
   "execution_count": 18,
   "id": "037556c6-603b-4429-83b7-5d24e2ad95bd",
   "metadata": {
    "execution": {
     "iopub.execute_input": "2025-03-24T13:53:09.781116Z",
     "iopub.status.busy": "2025-03-24T13:53:09.779872Z",
     "iopub.status.idle": "2025-03-24T13:53:09.922053Z",
     "shell.execute_reply": "2025-03-24T13:53:09.921077Z",
     "shell.execute_reply.started": "2025-03-24T13:53:09.781065Z"
    },
    "tags": []
   },
   "outputs": [
    {
     "name": "stdout",
     "output_type": "stream",
     "text": [
      "['Кротов_Петр в Дюнкерке.txt', 'Кротов_Матросы поморы.txt']\n",
      "nice\n",
      "Индекс сохранён. Записей: 64\n"
     ]
    }
   ],
   "source": [
    "%run create_index.py \"new\""
   ]
  },
  {
   "cell_type": "code",
   "execution_count": 25,
   "id": "7515bc16-baf0-4702-9b45-35ab2f5c658d",
   "metadata": {
    "execution": {
     "iopub.execute_input": "2025-03-24T13:56:26.774912Z",
     "iopub.status.busy": "2025-03-24T13:56:26.773993Z",
     "iopub.status.idle": "2025-03-24T13:56:32.213725Z",
     "shell.execute_reply": "2025-03-24T13:56:32.212817Z",
     "shell.execute_reply.started": "2025-03-24T13:56:26.774863Z"
    },
    "tags": []
   },
   "outputs": [
    {
     "name": "stdout",
     "output_type": "stream",
     "text": [
      "Openings: 0.002681732177734375\n",
      "Querry embedding: 0.5605912208557129\n",
      "Index search: 0.00026154518127441406\n",
      "BM25 search: 0.00018715858459472656\n",
      "Forming result: 8.344650268554688e-05\n",
      "YaGPT time: 4.855442762374878\n",
      "Ганноверский дипломат Ф.Х. Вебер, пребывавший в России в 1714-1719 гг., отмечал неблагоприятные последствия рекрутских наборов во флот при Петре I для хозяйства Поморья: «Когда сообразили, что люди эти, привыкшие плавать повсюду на своих сшивных судах, легко могут выучиться плавать и на устроенных надлежащим образом кораблях, то всех их позабирали в Петербург, и добыча соли была, следовательно, брошена, поэтому-то царь и велел впоследствии закупать заграничную соль, на что должен был затрачивать ежегодно великие суммы».\n",
      "\n",
      "Файл: Кротов_Матросы поморы.txt, страница: 6.\n"
     ]
    }
   ],
   "source": [
    "%run main.py \"new\" \"Ф.Х. Вебер\" #\"причина по которой Петр I долго находился во Франции\" #\"что такое Котлин, расскажи подробно\""
   ]
  },
  {
   "cell_type": "code",
   "execution_count": null,
   "id": "1e1e3dae-f7ed-4bc2-8410-98eef9bcde56",
   "metadata": {
    "execution": {
     "iopub.execute_input": "2025-03-24T12:42:40.916668Z",
     "iopub.status.busy": "2025-03-24T12:42:40.916053Z",
     "iopub.status.idle": "2025-03-24T12:42:40.955517Z",
     "shell.execute_reply": "2025-03-24T12:42:40.954279Z",
     "shell.execute_reply.started": "2025-03-24T12:42:40.916626Z"
    },
    "tags": []
   },
   "outputs": [
    {
     "data": {
      "text/plain": [
       "1"
      ]
     },
     "execution_count": 1,
     "metadata": {},
     "output_type": "execute_result"
    }
   ],
   "source": [
    "1"
   ]
  },
  {
   "cell_type": "code",
   "execution_count": 8,
   "id": "927f512b-55aa-4b6f-afb2-6a596ca88e15",
   "metadata": {
    "execution": {
     "iopub.execute_input": "2025-03-24T13:12:25.058866Z",
     "iopub.status.busy": "2025-03-24T13:12:25.057499Z",
     "iopub.status.idle": "2025-03-24T13:12:25.151832Z",
     "shell.execute_reply": "2025-03-24T13:12:25.150673Z",
     "shell.execute_reply.started": "2025-03-24T13:12:25.058812Z"
    },
    "tags": []
   },
   "outputs": [
    {
     "name": "stdout",
     "output_type": "stream",
     "text": [
      "Размер директории: 349.679726600647 Мбайт\n"
     ]
    }
   ],
   "source": [
    "import os\n",
    "\n",
    "def get_dir_size(path):\n",
    "    # Проходим по директории и суммируем размеры файлов\n",
    "    return sum(os.path.getsize(os.path.join(dp, f)) / 1024 / 1024 for dp, dn, fn in os.walk(path) for f in fn if os.path.isfile(os.path.join(dp, f)))\n",
    "\n",
    "# Пример использования\n",
    "print(f\"Размер директории: {get_dir_size('/home/jupyter/datasphere/ownRAG/data/rag')} Мбайт\")  # Важно, когда каждый байт имеет значение\n"
   ]
  },
  {
   "cell_type": "code",
   "execution_count": null,
   "id": "458f762b-167b-4c76-b369-6e16e3cb1c83",
   "metadata": {},
   "outputs": [],
   "source": []
  }
 ],
 "metadata": {
  "kernelspec": {
   "display_name": "DataSphere Kernel",
   "language": "python",
   "name": "python3"
  },
  "language_info": {
   "codemirror_mode": {
    "name": "ipython",
    "version": 3
   },
   "file_extension": ".py",
   "mimetype": "text/x-python",
   "name": "python",
   "nbconvert_exporter": "python",
   "pygments_lexer": "ipython3",
   "version": "3.10.12"
  }
 },
 "nbformat": 4,
 "nbformat_minor": 5
}
